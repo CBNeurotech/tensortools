{
 "cells": [
  {
   "cell_type": "code",
   "execution_count": 1,
   "metadata": {
    "collapsed": false
   },
   "outputs": [],
   "source": [
    "import tensortools as tt\n",
    "import numpy as np\n",
    "import matplotlib.pyplot as plt\n",
    "%matplotlib inline"
   ]
  },
  {
   "cell_type": "code",
   "execution_count": 15,
   "metadata": {
    "collapsed": false
   },
   "outputs": [],
   "source": [
    "# ground truth model\n",
    "N, R = 41, 3\n",
    "factors = [np.random.randn(N, R) for _ in range(3)]\n",
    "\n",
    "# noisy data\n",
    "data = np.einsum('ir,jr,kr->ijk', *factors) # low-rank part\n",
    "data += 4*np.random.randn(*data.shape) # add noise"
   ]
  },
  {
   "cell_type": "code",
   "execution_count": 16,
   "metadata": {
    "collapsed": false
   },
   "outputs": [
    {
     "name": "stdout",
     "output_type": "stream",
     "text": [
      "Optimizing rank-1 models.\n",
      "   3/3 converged, min error = 0.9615, max error = 0.9676, mean error = 0.9655, time to fit = 0.3374s\n",
      "Optimizing rank-2 models.\n",
      "   3/3 converged, min error = 0.9306, max error = 0.9605, mean error = 0.9448, time to fit = 0.6360s\n",
      "Optimizing rank-3 models.\n",
      "   3/3 converged, min error = 0.9074, max error = 0.9270, mean error = 0.9147, time to fit = 0.6596s\n",
      "Optimizing rank-4 models.\n",
      "   3/3 converged, min error = 0.9055, max error = 0.9079, mean error = 0.9066, time to fit = 0.9367s\n",
      "Optimizing rank-5 models.\n",
      "   3/3 converged, min error = 0.9027, max error = 0.9213, mean error = 0.9091, time to fit = 0.8884s\n",
      "Optimizing rank-6 models.\n",
      "   3/3 converged, min error = 0.9006, max error = 0.9188, mean error = 0.9075, time to fit = 0.8361s\n",
      "Optimizing rank-7 models.\n",
      "   3/3 converged, min error = 0.8977, max error = 0.9007, mean error = 0.8989, time to fit = 1.0844s\n",
      "Optimizing rank-8 models.\n",
      "   3/3 converged, min error = 0.8948, max error = 0.8971, mean error = 0.8962, time to fit = 0.9863s\n",
      "Total time to fit models: 7.1224s\n"
     ]
    }
   ],
   "source": [
    "results = tt.fit_ensemble(data, range(1, 9), replicates=3, method=tt.cp_crossval, p_holdout=.4)"
   ]
  },
  {
   "cell_type": "code",
   "execution_count": 17,
   "metadata": {
    "collapsed": false
   },
   "outputs": [
    {
     "data": {
      "text/plain": [
       "<matplotlib.legend.Legend at 0x110e2d6d8>"
      ]
     },
     "execution_count": 17,
     "metadata": {},
     "output_type": "execute_result"
    },
    {
     "data": {
      "image/png": "[encoded data removed]",
      "text/plain": [
       "<matplotlib.figure.Figure at 0x110be47f0>"
      ]
     },
     "metadata": {},
     "output_type": "display_data"
    }
   ],
   "source": [
    "ax = tt.plot_error(results, partition='train',\n",
    "                   line_kw=dict(c='k', label='train'), scatter_kw=dict(c='k'));\n",
    "tt.plot_error(results, partition='test', ax=ax,\n",
    "              line_kw=dict(c='r', label='test'), scatter_kw=dict(c='r'));\n",
    "plt.legend()"
   ]
  },
  {
   "cell_type": "code",
   "execution_count": null,
   "metadata": {
    "collapsed": true
   },
   "outputs": [],
   "source": []
  }
 ],
 "metadata": {
  "kernelspec": {
   "display_name": "Python 3",
   "language": "python",
   "name": "python3"
  },
  "language_info": {
   "codemirror_mode": {
    "name": "ipython",
    "version": 3
   },
   "file_extension": ".py",
   "mimetype": "text/x-python",
   "name": "python",
   "nbconvert_exporter": "python",
   "pygments_lexer": "ipython3",
   "version": "3.5.2"
  }
 },
 "nbformat": 4,
 "nbformat_minor": 1
}
