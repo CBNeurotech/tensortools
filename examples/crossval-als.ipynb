{
 "cells": [
  {
   "cell_type": "code",
   "execution_count": 1,
   "metadata": {
    "collapsed": false
   },
   "outputs": [],
   "source": [
    "import tensortools as tt\n",
    "import numpy as np\n",
    "import matplotlib.pyplot as plt\n",
    "%matplotlib inline"
   ]
  },
  {
   "cell_type": "code",
   "execution_count": 2,
   "metadata": {
    "collapsed": false
   },
   "outputs": [],
   "source": [
    "# ground truth model\n",
    "N, R = 41, 3\n",
    "factors = [np.random.randn(N, R) for _ in range(3)]\n",
    "\n",
    "# noisy data\n",
    "data = np.einsum('ir,jr,kr->ijk', *factors) # low-rank part\n",
    "data += np.random.randn(*data.shape) # add noise"
   ]
  },
  {
   "cell_type": "code",
   "execution_count": 5,
   "metadata": {
    "collapsed": false
   },
   "outputs": [
    {
     "name": "stdout",
     "output_type": "stream",
     "text": [
      "Optimizing rank-1 models.\n",
      "   3/3 converged, min error = 0.8832, max error = 0.9147, mean error = 0.8937, time to fit = 0.3636s\n",
      "Optimizing rank-2 models.\n",
      "   3/3 converged, min error = 0.7739, max error = 0.7872, mean error = 0.7824, time to fit = 0.6988s\n",
      "Optimizing rank-3 models.\n",
      "   3/3 converged, min error = 0.6539, max error = 0.6590, mean error = 0.6566, time to fit = 0.9139s\n",
      "Optimizing rank-4 models.\n",
      "   3/3 converged, min error = 0.6517, max error = 0.6576, mean error = 0.6545, time to fit = 1.1754s\n",
      "Optimizing rank-5 models.\n",
      "   3/3 converged, min error = 0.6457, max error = 0.6542, mean error = 0.6501, time to fit = 1.2785s\n",
      "Optimizing rank-6 models.\n",
      "   3/3 converged, min error = 0.6459, max error = 0.6504, mean error = 0.6481, time to fit = 1.1869s\n",
      "Optimizing rank-7 models.\n",
      "   3/3 converged, min error = 0.6444, max error = 0.6483, mean error = 0.6460, time to fit = 1.1833s\n",
      "Optimizing rank-8 models.\n",
      "   3/3 converged, min error = 0.6435, max error = 0.6447, mean error = 0.6442, time to fit = 1.4698s\n",
      "Total time to fit models: 9.0578s\n"
     ]
    }
   ],
   "source": [
    "results = tt.fit_ensemble(data, range(1, 9), replicates=3, method=tt.cp_crossval, p_holdout=.5)"
   ]
  },
  {
   "cell_type": "code",
   "execution_count": 11,
   "metadata": {
    "collapsed": false
   },
   "outputs": [
    {
     "data": {
      "text/plain": [
       "<matplotlib.legend.Legend at 0x11057a780>"
      ]
     },
     "execution_count": 11,
     "metadata": {},
     "output_type": "execute_result"
    },
    {
     "data": {
      "image/png": "[encoded data removed]",
      "text/plain": [
       "<matplotlib.figure.Figure at 0x1104b1cc0>"
      ]
     },
     "metadata": {},
     "output_type": "display_data"
    }
   ],
   "source": [
    "ax = tt.plot_error(results, partition='train',\n",
    "                   line_kw=dict(c='k', label='train'), scatter_kw=dict(c='k'));\n",
    "tt.plot_error(results, partition='test', ax=ax,\n",
    "              line_kw=dict(c='r', label='test'), scatter_kw=dict(c='r'));\n",
    "plt.legend()"
   ]
  }
 ],
 "metadata": {
  "kernelspec": {
   "display_name": "Python 3",
   "language": "python",
   "name": "python3"
  },
  "language_info": {
   "codemirror_mode": {
    "name": "ipython",
    "version": 3
   },
   "file_extension": ".py",
   "mimetype": "text/x-python",
   "name": "python",
   "nbconvert_exporter": "python",
   "pygments_lexer": "ipython3",
   "version": "3.5.2"
  }
 },
 "nbformat": 4,
 "nbformat_minor": 1
}
