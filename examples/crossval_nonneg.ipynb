{
 "cells": [
  {
   "cell_type": "code",
   "execution_count": 1,
   "metadata": {
    "collapsed": false
   },
   "outputs": [],
   "source": [
    "import tensortools as tt\n",
    "import numpy as np\n",
    "import matplotlib.pyplot as plt\n",
    "%matplotlib inline"
   ]
  },
  {
   "cell_type": "code",
   "execution_count": 2,
   "metadata": {
    "collapsed": false
   },
   "outputs": [],
   "source": [
    "# ground truth model\n",
    "N, R = 100, 3\n",
    "factors = [np.random.rand(N, R) for _ in range(3)]\n",
    "\n",
    "# noisy data\n",
    "data = np.einsum('ir,jr,kr->ijk', *factors) # low-rank part\n",
    "data += np.random.randn(*data.shape) # add noise"
   ]
  },
  {
   "cell_type": "code",
   "execution_count": 3,
   "metadata": {
    "collapsed": false
   },
   "outputs": [
    {
     "name": "stdout",
     "output_type": "stream",
     "text": [
      "Optimizing rank-1 models.\n",
      "   3/3 converged, min error = 0.8976, max error = 0.8979, mean error = 0.8977, time to fit = 1.0655s\n",
      "Optimizing rank-2 models.\n",
      "   3/3 converged, min error = 0.8945, max error = 0.8946, mean error = 0.8946, time to fit = 8.9617s\n",
      "Optimizing rank-3 models.\n",
      "   3/3 converged, min error = 0.8917, max error = 0.8920, mean error = 0.8919, time to fit = 19.1569s\n",
      "Optimizing rank-4 models.\n",
      "   3/3 converged, min error = 0.8917, max error = 0.8918, mean error = 0.8917, time to fit = 34.2978s\n",
      "Optimizing rank-5 models.\n",
      "   3/3 converged, min error = 0.8913, max error = 0.8914, mean error = 0.8914, time to fit = 49.7473s\n",
      "Optimizing rank-6 models.\n",
      "   3/3 converged, min error = 0.8912, max error = 0.8914, mean error = 0.8913, time to fit = 48.8147s\n",
      "Optimizing rank-7 models.\n",
      "   3/3 converged, min error = 0.8910, max error = 0.8911, mean error = 0.8911, time to fit = 64.1936s\n",
      "Optimizing rank-8 models.\n",
      "   3/3 converged, min error = 0.8906, max error = 0.8908, mean error = 0.8906, time to fit = 84.2758s\n",
      "Total time to fit models: 311.2551s\n"
     ]
    }
   ],
   "source": [
    "results = tt.fit_ensemble(data, range(1, 9), replicates=3, p_holdout=0.1, nonneg=True)"
   ]
  },
  {
   "cell_type": "code",
   "execution_count": 4,
   "metadata": {
    "collapsed": false
   },
   "outputs": [
    {
     "data": {
      "text/plain": [
       "<matplotlib.legend.Legend at 0x11d62cc88>"
      ]
     },
     "execution_count": 4,
     "metadata": {},
     "output_type": "execute_result"
    },
    {
     "data": {
      "image/png": "[encoded data removed]",
      "text/plain": [
       "<matplotlib.figure.Figure at 0x1179cbba8>"
      ]
     },
     "metadata": {},
     "output_type": "display_data"
    }
   ],
   "source": [
    "ax = tt.plot_error(results, partition='train',\n",
    "                   line_kw=dict(c='k', label='train'), scatter_kw=dict(c='k'));\n",
    "tt.plot_error(results, partition='test', ax=ax,\n",
    "              line_kw=dict(c='r', label='test'), scatter_kw=dict(c='r'));\n",
    "plt.legend()"
   ]
  }
 ],
 "metadata": {
  "kernelspec": {
   "display_name": "Python 3",
   "language": "python",
   "name": "python3"
  },
  "language_info": {
   "codemirror_mode": {
    "name": "ipython",
    "version": 3
   },
   "file_extension": ".py",
   "mimetype": "text/x-python",
   "name": "python",
   "nbconvert_exporter": "python",
   "pygments_lexer": "ipython3",
   "version": "3.5.2"
  }
 },
 "nbformat": 4,
 "nbformat_minor": 1
}
