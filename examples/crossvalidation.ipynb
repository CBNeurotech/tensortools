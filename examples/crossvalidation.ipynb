{
 "cells": [
  {
   "cell_type": "code",
   "execution_count": 1,
   "metadata": {
    "collapsed": false
   },
   "outputs": [],
   "source": [
    "import tensortools as tt\n",
    "import numpy as np\n",
    "import matplotlib.pyplot as plt\n",
    "%matplotlib inline"
   ]
  },
  {
   "cell_type": "code",
   "execution_count": 2,
   "metadata": {
    "collapsed": false
   },
   "outputs": [],
   "source": [
    "# ground truth model\n",
    "N, R = 41, 3\n",
    "factors = [np.random.randn(N, R) for _ in range(3)]\n",
    "\n",
    "# noisy data\n",
    "data = np.einsum('ir,jr,kr->ijk', *factors) # low-rank part\n",
    "data += np.random.randn(*data.shape) # add noise"
   ]
  },
  {
   "cell_type": "code",
   "execution_count": 6,
   "metadata": {
    "collapsed": false
   },
   "outputs": [
    {
     "name": "stdout",
     "output_type": "stream",
     "text": [
      "Optimizing rank-1 models.\n",
      "   3/3 converged, min error = 0.9675, max error = 0.9719, mean error = 0.9702, time to fit = 0.3589s\n",
      "Optimizing rank-2 models.\n",
      "   3/3 converged, min error = 0.9376, max error = 0.9381, mean error = 0.9378, time to fit = 0.5075s\n",
      "Optimizing rank-3 models.\n",
      "   3/3 converged, min error = 0.9069, max error = 0.9082, mean error = 0.9074, time to fit = 0.6759s\n",
      "Optimizing rank-4 models.\n",
      "   3/3 converged, min error = 0.9047, max error = 0.9053, mean error = 0.9049, time to fit = 4.6407s\n",
      "Optimizing rank-5 models.\n",
      "   3/3 converged, min error = 0.9030, max error = 0.9036, mean error = 0.9034, time to fit = 6.3273s\n",
      "Optimizing rank-6 models.\n",
      "   3/3 converged, min error = 0.8999, max error = 0.9014, mean error = 0.9009, time to fit = 9.6596s\n",
      "Optimizing rank-7 models.\n",
      "   3/3 converged, min error = 0.8993, max error = 0.8996, mean error = 0.8994, time to fit = 10.1578s\n",
      "Optimizing rank-8 models.\n",
      "   3/3 converged, min error = 0.8969, max error = 0.8976, mean error = 0.8972, time to fit = 11.2673s\n",
      "Total time to fit models: 44.4054s\n"
     ]
    }
   ],
   "source": [
    "results = tt.fit_ensemble(data, range(1, 9), replicates=3, p_holdout=0.1)"
   ]
  },
  {
   "cell_type": "code",
   "execution_count": 7,
   "metadata": {
    "collapsed": false
   },
   "outputs": [
    {
     "data": {
      "text/plain": [
       "<matplotlib.legend.Legend at 0x11096bf28>"
      ]
     },
     "execution_count": 7,
     "metadata": {},
     "output_type": "execute_result"
    },
    {
     "data": {
      "image/png": "[encoded data removed]",
      "text/plain": [
       "<matplotlib.figure.Figure at 0x10feb8748>"
      ]
     },
     "metadata": {},
     "output_type": "display_data"
    }
   ],
   "source": [
    "ax = tt.plot_error(results, partition='train',\n",
    "                   line_kw=dict(c='k', label='train'), scatter_kw=dict(c='k'));\n",
    "tt.plot_error(results, partition='test', ax=ax,\n",
    "              line_kw=dict(c='r', label='test'), scatter_kw=dict(c='r'));\n",
    "plt.legend()"
   ]
  }
 ],
 "metadata": {
  "kernelspec": {
   "display_name": "Python 3",
   "language": "python",
   "name": "python3"
  },
  "language_info": {
   "codemirror_mode": {
    "name": "ipython",
    "version": 3
   },
   "file_extension": ".py",
   "mimetype": "text/x-python",
   "name": "python",
   "nbconvert_exporter": "python",
   "pygments_lexer": "ipython3",
   "version": "3.5.2"
  }
 },
 "nbformat": 4,
 "nbformat_minor": 1
}
