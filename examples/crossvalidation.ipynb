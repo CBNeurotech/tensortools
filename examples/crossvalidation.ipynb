{
 "cells": [
  {
   "cell_type": "code",
   "execution_count": 1,
   "metadata": {
    "collapsed": false
   },
   "outputs": [],
   "source": [
    "import tensortools as tt\n",
    "import numpy as np\n",
    "import matplotlib.pyplot as plt\n",
    "%matplotlib inline"
   ]
  },
  {
   "cell_type": "code",
   "execution_count": 2,
   "metadata": {
    "collapsed": false
   },
   "outputs": [],
   "source": [
    "# ground truth model\n",
    "N, R = 100, 3\n",
    "factors = [np.random.randn(N, R) for _ in range(3)]\n",
    "\n",
    "# noisy data\n",
    "data = np.einsum('ir,jr,kr->ijk', *factors) # low-rank part\n",
    "data += np.random.randn(*data.shape) # add noise"
   ]
  },
  {
   "cell_type": "code",
   "execution_count": 6,
   "metadata": {
    "collapsed": false
   },
   "outputs": [],
   "source": [
    "fit_kw = {\n",
    "    'ranks': range(1, 9),\n",
    "    'replicates': 3,\n",
    "    'p_holdout': .9,\n",
    "    'options': {\n",
    "        'tol': 1e-2\n",
    "    }\n",
    "}"
   ]
  },
  {
   "cell_type": "code",
   "execution_count": 7,
   "metadata": {
    "collapsed": false
   },
   "outputs": [
    {
     "name": "stdout",
     "output_type": "stream",
     "text": [
      "Optimizing rank-1 models.\n",
      "   3/3 converged, min error = 0.8709, max error = 0.9928, mean error = 0.9207, time to fit = 0.7096s\n",
      "Optimizing rank-2 models.\n",
      "   3/3 converged, min error = 0.6808, max error = 0.7467, mean error = 0.7029, time to fit = 2.9747s\n",
      "Optimizing rank-3 models.\n",
      "   3/3 converged, min error = 0.5180, max error = 0.6686, mean error = 0.5683, time to fit = 3.5100s\n",
      "Optimizing rank-4 models.\n",
      "   3/3 converged, min error = 0.5189, max error = 0.6665, mean error = 0.5684, time to fit = 4.5236s\n",
      "Optimizing rank-5 models.\n",
      "   3/3 converged, min error = 0.5191, max error = 0.5216, mean error = 0.5202, time to fit = 5.4614s\n",
      "Optimizing rank-6 models.\n",
      "   3/3 converged, min error = 0.5141, max error = 0.5161, mean error = 0.5154, time to fit = 8.2025s\n",
      "Optimizing rank-7 models.\n",
      "   3/3 converged, min error = 0.5137, max error = 0.5187, mean error = 0.5165, time to fit = 7.4320s\n",
      "Optimizing rank-8 models.\n",
      "   3/3 converged, min error = 0.5147, max error = 0.5194, mean error = 0.5170, time to fit = 9.4348s\n",
      "Total time to fit models: 43.0150s\n"
     ]
    }
   ],
   "source": [
    "results = tt.fit_ensemble(data, **fit_kw)"
   ]
  },
  {
   "cell_type": "code",
   "execution_count": 8,
   "metadata": {
    "collapsed": false
   },
   "outputs": [
    {
     "data": {
      "text/plain": [
       "<matplotlib.legend.Legend at 0x10d8993c8>"
      ]
     },
     "execution_count": 8,
     "metadata": {},
     "output_type": "execute_result"
    },
    {
     "data": {
      "image/png": "[encoded data removed]",
      "text/plain": [
       "<matplotlib.figure.Figure at 0x116f76320>"
      ]
     },
     "metadata": {},
     "output_type": "display_data"
    }
   ],
   "source": [
    "ax = tt.plot_error(results, partition='train',\n",
    "                   line_kw=dict(c='k', label='train'), scatter_kw=dict(c='k'));\n",
    "tt.plot_error(results, partition='test', ax=ax,\n",
    "              line_kw=dict(c='r', label='test'), scatter_kw=dict(c='r'));\n",
    "plt.legend()"
   ]
  }
 ],
 "metadata": {
  "kernelspec": {
   "display_name": "Python 3",
   "language": "python",
   "name": "python3"
  }
 },
 "nbformat": 4,
 "nbformat_minor": 1
}
