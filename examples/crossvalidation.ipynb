{
 "cells": [
  {
   "cell_type": "code",
   "execution_count": 1,
   "metadata": {
    "collapsed": false
   },
   "outputs": [],
   "source": [
    "import tensortools as tt\n",
    "import numpy as np\n",
    "import matplotlib.pyplot as plt\n",
    "%matplotlib inline"
   ]
  },
  {
   "cell_type": "code",
   "execution_count": null,
   "metadata": {
    "collapsed": false
   },
   "outputs": [],
   "source": [
    "# ground truth model\n",
    "N, R = 41, 3\n",
    "factors = [np.random.randn(N, R) for _ in range(3)]\n",
    "\n",
    "# noisy data\n",
    "data = np.einsum('ir,jr,kr->ijk', *factors) # low-rank part\n",
    "data += np.random.randn(*data.shape) # add noise"
   ]
  },
  {
   "cell_type": "code",
   "execution_count": null,
   "metadata": {
    "collapsed": false
   },
   "outputs": [
    {
     "name": "stdout",
     "output_type": "stream",
     "text": [
      "Optimizing rank-1 models.\n",
      "   3/3 converged, min error = 0.8267, max error = 0.9089, mean error = 0.8673, time to fit = 0.4531s\n",
      "Optimizing rank-2 models.\n",
      "   3/3 converged, min error = 0.6624, max error = 0.7592, mean error = 0.7126, time to fit = 0.5126s\n",
      "Optimizing rank-3 models.\n",
      "   3/3 converged, min error = 0.5188, max error = 0.6598, mean error = 0.5660, time to fit = 0.5853s\n",
      "Optimizing rank-4 models.\n",
      "   3/3 converged, min error = 0.5161, max error = 0.5177, mean error = 0.5168, time to fit = 2.7440s\n",
      "Optimizing rank-5 models.\n",
      "   fitting replicate: 3/3    iter=44, obj=0.5171, variation=0.0000"
     ]
    }
   ],
   "source": [
    "results = tt.fit_ensemble(data, range(1, 9), replicates=3, p_holdout=0.1)"
   ]
  },
  {
   "cell_type": "code",
   "execution_count": null,
   "metadata": {
    "collapsed": false
   },
   "outputs": [],
   "source": [
    "ax = tt.plot_error(results, partition='train',\n",
    "                   line_kw=dict(c='k', label='train'), scatter_kw=dict(c='k'));\n",
    "tt.plot_error(results, partition='test', ax=ax,\n",
    "              line_kw=dict(c='r', label='test'), scatter_kw=dict(c='r'));\n",
    "plt.legend()"
   ]
  },
  {
   "cell_type": "code",
   "execution_count": null,
   "metadata": {
    "collapsed": true
   },
   "outputs": [],
   "source": []
  }
 ],
 "metadata": {
  "kernelspec": {
   "display_name": "Python 3",
   "language": "python",
   "name": "python3"
  },
  "language_info": {
   "codemirror_mode": {
    "name": "ipython",
    "version": 3
   },
   "file_extension": ".py",
   "mimetype": "text/x-python",
   "name": "python",
   "nbconvert_exporter": "python",
   "pygments_lexer": "ipython3",
   "version": "3.5.2"
  }
 },
 "nbformat": 4,
 "nbformat_minor": 1
}
