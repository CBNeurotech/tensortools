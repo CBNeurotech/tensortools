{
 "cells": [
  {
   "cell_type": "code",
   "execution_count": 1,
   "metadata": {
    "collapsed": false
   },
   "outputs": [],
   "source": [
    "import tensortools as tt\n",
    "import numpy as np\n",
    "import matplotlib.pyplot as plt\n",
    "%matplotlib inline"
   ]
  },
  {
   "cell_type": "code",
   "execution_count": 2,
   "metadata": {
    "collapsed": false
   },
   "outputs": [],
   "source": [
    "# ground truth model\n",
    "N, R = 100, 3\n",
    "factors = [np.random.randn(N, R) for _ in range(3)]\n",
    "\n",
    "# noisy data\n",
    "data = np.einsum('ir,jr,kr->ijk', *factors) # low-rank part\n",
    "data += np.random.randn(*data.shape) # add noise"
   ]
  },
  {
   "cell_type": "code",
   "execution_count": 3,
   "metadata": {
    "collapsed": false
   },
   "outputs": [
    {
     "name": "stdout",
     "output_type": "stream",
     "text": [
      "Optimizing rank-1 models.\n",
      "   3/3 converged, min error = 0.8300, max error = 0.8952, mean error = 0.8734, time to fit = 1.2701s\n",
      "Optimizing rank-2 models.\n",
      "   3/3 converged, min error = 0.7012, max error = 0.7709, mean error = 0.7246, time to fit = 5.7466s\n",
      "Optimizing rank-3 models.\n",
      "   3/3 converged, min error = 0.5323, max error = 0.5330, mean error = 0.5327, time to fit = 6.4295s\n",
      "Optimizing rank-4 models.\n",
      "   3/3 converged, min error = 0.5324, max error = 0.5327, mean error = 0.5326, time to fit = 4.8122s\n",
      "Optimizing rank-5 models.\n",
      "   3/3 converged, min error = 0.5324, max error = 0.5326, mean error = 0.5326, time to fit = 10.4947s\n",
      "Optimizing rank-6 models.\n",
      "   3/3 converged, min error = 0.5325, max error = 0.5327, mean error = 0.5326, time to fit = 25.3681s\n",
      "Optimizing rank-7 models.\n",
      "   3/3 converged, min error = 0.5317, max error = 0.5326, mean error = 0.5322, time to fit = 70.0893s\n",
      "Optimizing rank-8 models.\n",
      "   3/3 converged, min error = 0.5319, max error = 0.5325, mean error = 0.5323, time to fit = 41.3209s\n",
      "Total time to fit models: 166.2876s\n"
     ]
    }
   ],
   "source": [
    "results = tt.fit_ensemble(data, range(1, 9), replicates=3, p_holdout=0.1)"
   ]
  },
  {
   "cell_type": "code",
   "execution_count": 4,
   "metadata": {
    "collapsed": false
   },
   "outputs": [
    {
     "data": {
      "text/plain": [
       "<matplotlib.legend.Legend at 0x10d87bd30>"
      ]
     },
     "execution_count": 4,
     "metadata": {},
     "output_type": "execute_result"
    },
    {
     "data": {
      "image/png": "[encoded data removed]",
      "text/plain": [
       "<matplotlib.figure.Figure at 0x103275a58>"
      ]
     },
     "metadata": {},
     "output_type": "display_data"
    }
   ],
   "source": [
    "ax = tt.plot_error(results, partition='train',\n",
    "                   line_kw=dict(c='k', label='train'), scatter_kw=dict(c='k'));\n",
    "tt.plot_error(results, partition='test', ax=ax,\n",
    "              line_kw=dict(c='r', label='test'), scatter_kw=dict(c='r'));\n",
    "plt.legend()"
   ]
  }
 ],
 "metadata": {
  "kernelspec": {
   "display_name": "Python 3",
   "language": "python",
   "name": "python3"
  },
  "language_info": {
   "codemirror_mode": {
    "name": "ipython",
    "version": 3
   },
   "file_extension": ".py",
   "mimetype": "text/x-python",
   "name": "python",
   "nbconvert_exporter": "python",
   "pygments_lexer": "ipython3",
   "version": "3.5.2"
  }
 },
 "nbformat": 4,
 "nbformat_minor": 1
}
