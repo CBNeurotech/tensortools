{
 "cells": [
  {
   "cell_type": "code",
   "execution_count": 1,
   "metadata": {
    "collapsed": false
   },
   "outputs": [],
   "source": [
    "from tensorly.kruskal import kruskal_to_tensor\n",
    "from tensortools import cp_als, cp_rand\n",
    "import numpy as np\n",
    "import matplotlib.pyplot as plt\n",
    "np.random.seed(1234)\n",
    "%matplotlib inline"
   ]
  },
  {
   "cell_type": "code",
   "execution_count": 2,
   "metadata": {
    "collapsed": false
   },
   "outputs": [],
   "source": [
    "# params\n",
    "N = 300\n",
    "ndim = 3\n",
    "R = 5\n",
    "sigma = 0.1\n",
    "\n",
    "# generate data\n",
    "true_factors = [np.random.randn(N, R) for _ in range(ndim)]\n",
    "data = kruskal_to_tensor(true_factors)\n",
    "data += sigma*np.random.randn(*data.shape)"
   ]
  },
  {
   "cell_type": "code",
   "execution_count": 3,
   "metadata": {
    "collapsed": false
   },
   "outputs": [],
   "source": [
    "fit_kwargs = {\"init\" : [np.random.randn(N, R) for _ in range(ndim)]}"
   ]
  },
  {
   "cell_type": "code",
   "execution_count": 4,
   "metadata": {
    "collapsed": false
   },
   "outputs": [
    {
     "name": "stdout",
     "output_type": "stream",
     "text": [
      "CP-ALS\n",
      "------------------------------\n",
      "converged in 7 iterations.\n",
      "CP-RAND\n",
      "------------------------------\n",
      "converged in 26 iterations."
     ]
    }
   ],
   "source": [
    "# run fits\n",
    "print('CP-ALS\\n'+'-'*30)\n",
    "als_factors, als_info = cp_als(data, R, **fit_kwargs)\n",
    "print('\\nCP-RAND\\n'+'-'*30)\n",
    "rand_factors, rand_info = cp_rand(data, R, **fit_kwargs)"
   ]
  },
  {
   "cell_type": "code",
   "execution_count": 5,
   "metadata": {
    "collapsed": false
   },
   "outputs": [
    {
     "data": {
      "text/plain": [
       "<matplotlib.text.Text at 0x7fd0d3cc7ba8>"
      ]
     },
     "execution_count": 5,
     "metadata": {},
     "output_type": "execute_result"
    },
    {
     "data": {
      "image/png": "[encoded data removed]",
      "text/plain": [
       "<matplotlib.figure.Figure at 0x7fd0d43c5f28>"
      ]
     },
     "metadata": {},
     "output_type": "display_data"
    }
   ],
   "source": [
    "plt.figure()\n",
    "plt.plot(als_info['t_hist'], als_info['err_hist'], '.-', label='ALS')\n",
    "plt.plot(rand_info['t_hist'], rand_info['err_hist'], '.-', label='RAND')\n",
    "plt.legend(loc='best')\n",
    "plt.ylabel('relative error')\n",
    "plt.xlabel('time (s)')"
   ]
  },
  {
   "cell_type": "markdown",
   "metadata": {
    "collapsed": true
   },
   "source": [
    "## CPRAND estimate vs. true factors"
   ]
  },
  {
   "cell_type": "code",
   "execution_count": null,
   "metadata": {
    "collapsed": false
   },
   "outputs": [],
   "source": [
    "from tensortools import plot_factors, align_factors\n",
    "\n",
    "rf, tf, _ = align_factors(rand_factors, true_factors)\n",
    "\n",
    "fig, ax, po = plot_factors(tf, figsize=(9,3), line_kw=dict(color='r'))\n",
    "plot_factors(rf, fig=fig, line_kw=dict(color='b', alpha=0.4));"
   ]
  },
  {
   "cell_type": "markdown",
   "metadata": {},
   "source": [
    "## ALS estimate vs. true factors"
   ]
  },
  {
   "cell_type": "code",
   "execution_count": null,
   "metadata": {
    "collapsed": false
   },
   "outputs": [],
   "source": [
    "af, tf, _ = align_factors(als_factors, true_factors)\n",
    "\n",
    "fig, ax, po = plot_factors(tf, figsize=(9,3), line_kw=dict(color='r'))\n",
    "plot_factors(af, fig=fig, line_kw=dict(color='b', alpha=0.4));"
   ]
  },
  {
   "cell_type": "code",
   "execution_count": null,
   "metadata": {
    "collapsed": true
   },
   "outputs": [],
   "source": []
  }
 ],
 "metadata": {
  "kernelspec": {
   "display_name": "Python [default]",
   "language": "python",
   "name": "python3"
  },
  "language_info": {
   "codemirror_mode": {
    "name": "ipython",
    "version": 3
   },
   "file_extension": ".py",
   "mimetype": "text/x-python",
   "name": "python",
   "nbconvert_exporter": "python",
   "pygments_lexer": "ipython3",
   "version": "3.5.2"
  }
 },
 "nbformat": 4,
 "nbformat_minor": 1
}
