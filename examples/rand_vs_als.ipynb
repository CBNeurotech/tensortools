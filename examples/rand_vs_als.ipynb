{
 "cells": [
  {
   "cell_type": "code",
   "execution_count": 1,
   "metadata": {
    "collapsed": false
   },
   "outputs": [],
   "source": [
    "from tensorly.kruskal import kruskal_to_tensor\n",
    "from tensortools import cp_als, cp_rand\n",
    "import numpy as np\n",
    "import matplotlib.pyplot as plt\n",
    "np.random.seed(1234)\n",
    "%matplotlib inline"
   ]
  },
  {
   "cell_type": "code",
   "execution_count": 2,
   "metadata": {
    "collapsed": false
   },
   "outputs": [],
   "source": [
    "# params\n",
    "N = 150\n",
    "ndim = 3\n",
    "R = 20\n",
    "\n",
    "# generate data\n",
    "true_factors = [np.random.randn(N, R) for _ in range(ndim)]\n",
    "data = kruskal_to_tensor(true_factors)"
   ]
  },
  {
   "cell_type": "code",
   "execution_count": 3,
   "metadata": {
    "collapsed": true
   },
   "outputs": [],
   "source": [
    "fit_kwargs = {\"init_factors\" : [np.random.randn(N, R) for _ in range(ndim)],\n",
    "              \"verbose\" : True,\n",
    "              \"print_every\" : 5 }"
   ]
  },
  {
   "cell_type": "code",
   "execution_count": 4,
   "metadata": {
    "collapsed": false
   },
   "outputs": [
    {
     "name": "stdout",
     "output_type": "stream",
     "text": [
      "CP-ALS\n",
      "------------------------------\n",
      "iter=0, error=1.4159849847701214\n",
      "iter=5, error=0.2857086624868857, variation=0.015398228427957072\n",
      "iter=10, error=0.0013179043951016753, variation=0.025447362748566356\n",
      "converged in 14 iterations.\n",
      "CP-RAND\n",
      "------------------------------\n",
      "iter=0, error=1.4181596901308533\n",
      "iter=5, error=0.6194273335824589, variation=0.12444093526863531\n",
      "iter=10, error=0.0022707644300448034, variation=0.008737753439789067\n",
      "iter=15, error=1.472614257636591e-06, variation=4.629550177825154e-06\n",
      "converged in 17 iterations.\n"
     ]
    }
   ],
   "source": [
    "# run fits\n",
    "print('CP-ALS\\n'+'-'*30)\n",
    "als_factors, als_info = cp_als(data, R, **fit_kwargs)\n",
    "print('CP-RAND\\n'+'-'*30)\n",
    "rand_factors, rand_info = cp_rand(data, R, **fit_kwargs)"
   ]
  },
  {
   "cell_type": "code",
   "execution_count": 5,
   "metadata": {
    "collapsed": false
   },
   "outputs": [
    {
     "data": {
      "text/plain": [
       "<matplotlib.text.Text at 0x11963a470>"
      ]
     },
     "execution_count": 5,
     "metadata": {},
     "output_type": "execute_result"
    },
    {
     "data": {
      "image/png": "[encoded data removed]",
      "text/plain": [
       "<matplotlib.figure.Figure at 0x11051f908>"
      ]
     },
     "metadata": {},
     "output_type": "display_data"
    }
   ],
   "source": [
    "plt.figure()\n",
    "plt.plot(als_info['t_elapsed'], als_info['rec_errors'], '.-', label='ALS')\n",
    "plt.plot(rand_info['t_elapsed'], rand_info['rec_errors'], '.-', label='RAND')\n",
    "plt.legend(loc='best')\n",
    "plt.ylabel('relative error')\n",
    "plt.xlabel('time (s)')"
   ]
  },
  {
   "cell_type": "code",
   "execution_count": 6,
   "metadata": {
    "collapsed": false
   },
   "outputs": [
    {
     "data": {
      "text/plain": [
       "100"
      ]
     },
     "execution_count": 6,
     "metadata": {},
     "output_type": "execute_result"
    }
   ],
   "source": [
    "len(np.random.randn(10,10).ravel())"
   ]
  },
  {
   "cell_type": "code",
   "execution_count": null,
   "metadata": {
    "collapsed": true
   },
   "outputs": [],
   "source": []
  }
 ],
 "metadata": {
  "kernelspec": {
   "display_name": "Python 3",
   "language": "python",
   "name": "python3"
  },
  "language_info": {
   "codemirror_mode": {
    "name": "ipython",
    "version": 3
   },
   "file_extension": ".py",
   "mimetype": "text/x-python",
   "name": "python",
   "nbconvert_exporter": "python",
   "pygments_lexer": "ipython3",
   "version": "3.5.2"
  }
 },
 "nbformat": 4,
 "nbformat_minor": 1
}
